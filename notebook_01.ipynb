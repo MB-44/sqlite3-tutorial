{
 "cells": [
  {
   "cell_type": "code",
   "execution_count": 47,
   "id": "5e2d322a-2aa0-4fba-b365-08728e370f97",
   "metadata": {},
   "outputs": [],
   "source": [
    "import sqlite3"
   ]
  },
  {
   "cell_type": "code",
   "execution_count": 48,
   "id": "c9b2b9d2-1acf-4e0d-b6d9-06da8b932a5a",
   "metadata": {},
   "outputs": [],
   "source": [
    "conn = sqlite3.connect(\"films.db\")"
   ]
  },
  {
   "cell_type": "code",
   "execution_count": 49,
   "id": "4cfa88d7-27e0-436d-8645-22d5656af348",
   "metadata": {},
   "outputs": [],
   "source": [
    "c = conn.cursor()"
   ]
  },
  {
   "cell_type": "code",
   "execution_count": 50,
   "id": "01d1d8b2-075b-4649-88b3-71671e64822c",
   "metadata": {},
   "outputs": [
    {
     "data": {
      "text/plain": [
       "<sqlite3.Cursor at 0x2878f7d8640>"
      ]
     },
     "execution_count": 50,
     "metadata": {},
     "output_type": "execute_result"
    }
   ],
   "source": [
    "c.execute(\"\"\"\n",
    "    CREATE TABLE FILMS (\n",
    "        film_name text,\n",
    "        year integer,\n",
    "        genre text) \"\"\")"
   ]
  },
  {
   "cell_type": "code",
   "execution_count": 52,
   "id": "10924f67-089b-48a2-a0e0-a623913df9c5",
   "metadata": {},
   "outputs": [
    {
     "data": {
      "text/plain": [
       "<sqlite3.Cursor at 0x2878f7d8640>"
      ]
     },
     "execution_count": 52,
     "metadata": {},
     "output_type": "execute_result"
    }
   ],
   "source": [
    "c.execute(\"\"\" INSERT INTO FILMS VALUES \n",
    "(\"FORREST-GUMP\",1996,\"ROMANCE/COMEDY\"),\n",
    "(\"SHAWSHANK-REDEMPTION\",1996,\"ACTION\"),\n",
    "(\"OPPENHIMER\",2023,\"SCI-FI\"),\n",
    "(\"MEET-JOE-BLACK\",1998,\"ROMANCE/COMEDY\")\n",
    "\"\"\")"
   ]
  },
  {
   "cell_type": "code",
   "execution_count": 55,
   "id": "21524c5f-9e70-4f05-a491-14ae210cc934",
   "metadata": {},
   "outputs": [
    {
     "data": {
      "text/plain": [
       "<sqlite3.Cursor at 0x2878f7d8640>"
      ]
     },
     "execution_count": 55,
     "metadata": {},
     "output_type": "execute_result"
    }
   ],
   "source": [
    "c.execute(\"SELECT * FROM FILMS WHERE year=1996\")"
   ]
  },
  {
   "cell_type": "code",
   "execution_count": 59,
   "id": "ef920647-bc5b-44d9-9ad3-02b05b74858e",
   "metadata": {},
   "outputs": [
    {
     "data": {
      "text/plain": [
       "[]"
      ]
     },
     "execution_count": 59,
     "metadata": {},
     "output_type": "execute_result"
    }
   ],
   "source": [
    "c.fetchall()"
   ]
  },
  {
   "cell_type": "code",
   "execution_count": null,
   "id": "e52f997c-fc1c-4789-b41a-69ec3431cce2",
   "metadata": {},
   "outputs": [],
   "source": []
  }
 ],
 "metadata": {
  "kernelspec": {
   "display_name": "Python 3 (ipykernel)",
   "language": "python",
   "name": "python3"
  },
  "language_info": {
   "codemirror_mode": {
    "name": "ipython",
    "version": 3
   },
   "file_extension": ".py",
   "mimetype": "text/x-python",
   "name": "python",
   "nbconvert_exporter": "python",
   "pygments_lexer": "ipython3",
   "version": "3.11.3"
  }
 },
 "nbformat": 4,
 "nbformat_minor": 5
}
